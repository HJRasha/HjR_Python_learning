{
 "cells": [
  {
   "cell_type": "code",
   "execution_count": 18,
   "metadata": {},
   "outputs": [],
   "source": [
    "import math"
   ]
  },
  {
   "cell_type": "markdown",
   "metadata": {},
   "source": [
    "## Functions"
   ]
  },
  {
   "cell_type": "code",
   "execution_count": 19,
   "metadata": {},
   "outputs": [
    {
     "data": {
      "text/plain": [
       "6"
      ]
     },
     "execution_count": 19,
     "metadata": {},
     "output_type": "execute_result"
    }
   ],
   "source": [
    "def performOperation(num1,num2,operation):\n",
    "    if operation =='sum':\n",
    "        return num1 + num2\n",
    "    if operation == 'sub':\n",
    "        return num1 - num2\n",
    "    if operation == 'multiply':\n",
    "        return num1 * num2\n",
    "performOperation(2,3,'multiply')"
   ]
  },
  {
   "cell_type": "markdown",
   "metadata": {},
   "source": [
    "## Named Parameter"
   ]
  },
  {
   "cell_type": "code",
   "execution_count": 20,
   "metadata": {},
   "outputs": [
    {
     "data": {
      "text/plain": [
       "5"
      ]
     },
     "execution_count": 20,
     "metadata": {},
     "output_type": "execute_result"
    }
   ],
   "source": [
    "def performOperation(num1,num2,operation = 'sum'):\n",
    "    if operation =='sum':\n",
    "        return num1 + num2\n",
    "    if operation == 'sub':\n",
    "        return num1 - num2\n",
    "    if operation == 'multiply':\n",
    "        return num1 * num2\n",
    "performOperation(2,3)"
   ]
  },
  {
   "cell_type": "code",
   "execution_count": 21,
   "metadata": {},
   "outputs": [
    {
     "name": "stdout",
     "output_type": "stream",
     "text": [
      "New message\n"
     ]
    },
    {
     "data": {
      "text/plain": [
       "6"
      ]
     },
     "execution_count": 21,
     "metadata": {},
     "output_type": "execute_result"
    }
   ],
   "source": [
    "def performOperation(num1, num2, operation='sum', message='Default message'):\n",
    "    print(message)\n",
    "    if operation == 'sum':\n",
    "        return num1 + num2\n",
    "    if operation == 'multiply':\n",
    "        return num1 * num2\n",
    "    \n",
    "performOperation(2, 3, message='New message', operation='multiply')"
   ]
  },
  {
   "cell_type": "markdown",
   "metadata": {},
   "source": [
    "### *arg"
   ]
  },
  {
   "cell_type": "code",
   "execution_count": 7,
   "metadata": {},
   "outputs": [
    {
     "ename": "TypeError",
     "evalue": "performOperation() takes 1 positional argument but 3 were given",
     "output_type": "error",
     "traceback": [
      "\u001b[1;31m---------------------------------------------------------------------------\u001b[0m",
      "\u001b[1;31mTypeError\u001b[0m                                 Traceback (most recent call last)",
      "\u001b[1;32m~\\AppData\\Local\\Temp\\ipykernel_22572\\2123370553.py\u001b[0m in \u001b[0;36m<module>\u001b[1;34m\u001b[0m\n\u001b[0;32m      2\u001b[0m     \u001b[0mprint\u001b[0m\u001b[1;33m(\u001b[0m\u001b[0margs\u001b[0m\u001b[1;33m)\u001b[0m\u001b[1;33m\u001b[0m\u001b[1;33m\u001b[0m\u001b[0m\n\u001b[0;32m      3\u001b[0m \u001b[1;33m\u001b[0m\u001b[0m\n\u001b[1;32m----> 4\u001b[1;33m \u001b[0mperformOperation\u001b[0m\u001b[1;33m(\u001b[0m\u001b[1;36m1\u001b[0m\u001b[1;33m,\u001b[0m\u001b[1;36m2\u001b[0m\u001b[1;33m,\u001b[0m\u001b[1;36m3\u001b[0m\u001b[1;33m)\u001b[0m\u001b[1;33m\u001b[0m\u001b[1;33m\u001b[0m\u001b[0m\n\u001b[0m",
      "\u001b[1;31mTypeError\u001b[0m: performOperation() takes 1 positional argument but 3 were given"
     ]
    }
   ],
   "source": [
    "def performOperation(args):\n",
    "    print(args)\n",
    "    \n",
    "performOperation(1,2,3)"
   ]
  },
  {
   "cell_type": "code",
   "execution_count": 22,
   "metadata": {},
   "outputs": [
    {
     "name": "stdout",
     "output_type": "stream",
     "text": [
      "(1, 2, 3)\n"
     ]
    }
   ],
   "source": [
    "def performOperation(*args):\n",
    "    print(args)\n",
    "    \n",
    "performOperation(1,2,3)"
   ]
  },
  {
   "cell_type": "code",
   "execution_count": 9,
   "metadata": {},
   "outputs": [
    {
     "ename": "TypeError",
     "evalue": "performOperation() got an unexpected keyword argument 'operation'",
     "output_type": "error",
     "traceback": [
      "\u001b[1;31m---------------------------------------------------------------------------\u001b[0m",
      "\u001b[1;31mTypeError\u001b[0m                                 Traceback (most recent call last)",
      "\u001b[1;32m~\\AppData\\Local\\Temp\\ipykernel_22572\\2649354331.py\u001b[0m in \u001b[0;36m<module>\u001b[1;34m\u001b[0m\n\u001b[1;32m----> 1\u001b[1;33m \u001b[0mperformOperation\u001b[0m\u001b[1;33m(\u001b[0m\u001b[1;36m1\u001b[0m\u001b[1;33m,\u001b[0m\u001b[1;36m2\u001b[0m\u001b[1;33m,\u001b[0m\u001b[1;36m3\u001b[0m\u001b[1;33m,\u001b[0m \u001b[0moperation\u001b[0m\u001b[1;33m=\u001b[0m\u001b[1;34m'sum'\u001b[0m\u001b[1;33m)\u001b[0m\u001b[1;33m\u001b[0m\u001b[1;33m\u001b[0m\u001b[0m\n\u001b[0m",
      "\u001b[1;31mTypeError\u001b[0m: performOperation() got an unexpected keyword argument 'operation'"
     ]
    }
   ],
   "source": [
    "performOperation(1,2,3, operation='sum')"
   ]
  },
  {
   "cell_type": "markdown",
   "metadata": {},
   "source": [
    "### **kwargs"
   ]
  },
  {
   "cell_type": "code",
   "execution_count": 23,
   "metadata": {},
   "outputs": [
    {
     "name": "stdout",
     "output_type": "stream",
     "text": [
      "(1, 2, 3)\n",
      "{'operation': 'sum'}\n"
     ]
    }
   ],
   "source": [
    "def performOperation(*args, **kwargs):\n",
    "    print(args)\n",
    "    print(kwargs)\n",
    "performOperation(1,2,3, operation='sum')"
   ]
  },
  {
   "cell_type": "code",
   "execution_count": 27,
   "metadata": {},
   "outputs": [
    {
     "data": {
      "text/plain": [
       "6"
      ]
     },
     "execution_count": 27,
     "metadata": {},
     "output_type": "execute_result"
    }
   ],
   "source": [
    "def performOperation(*args, operation):\n",
    "    if operation == 'sum':\n",
    "        return sum(args)\n",
    "    if operation == 'multiply':\n",
    "        return math.prod(args)\n",
    "    \n",
    "performOperation(1,2,3, operation='sum')"
   ]
  },
  {
   "cell_type": "code",
   "execution_count": 29,
   "metadata": {},
   "outputs": [
    {
     "name": "stdout",
     "output_type": "stream",
     "text": [
      "24\n",
      "9\n"
     ]
    }
   ],
   "source": [
    "import math\n",
    "from functools import reduce\n",
    "import operator\n",
    "\n",
    "def performOperation(*args, operation):\n",
    "    if operation == 'add':\n",
    "        return sum(args)\n",
    "    if operation == 'multiply':\n",
    "        return reduce(operator.mul, args, 1)\n",
    "\n",
    "# Test the function\n",
    "print(performOperation(4, 2, 3, operation='multiply'))  # Output: 6\n",
    "print(performOperation(4, 2, 3, operation='add'))       # Output: 6\n"
   ]
  },
  {
   "cell_type": "code",
   "execution_count": 30,
   "metadata": {},
   "outputs": [
    {
     "name": "stdout",
     "output_type": "stream",
     "text": [
      "(1, 2)\n",
      "{'operation': 'sum'}\n"
     ]
    }
   ],
   "source": [
    "def performOperation(*args, **kwargs):\n",
    "    print(args)\n",
    "    print(kwargs)\n",
    "\n",
    "performOperation(1, 2, operation='sum')"
   ]
  },
  {
   "cell_type": "markdown",
   "metadata": {},
   "source": [
    "### locals()"
   ]
  },
  {
   "cell_type": "code",
   "execution_count": 33,
   "metadata": {},
   "outputs": [
    {
     "name": "stdout",
     "output_type": "stream",
     "text": [
      "{'num1': 1, 'num2': 2, 'operation': 'multiply'}\n"
     ]
    }
   ],
   "source": [
    "def performOperation(num1, num2, operation='sum'):\n",
    "    print(locals())\n",
    "    \n",
    "performOperation(1, 2, operation='multiply')\n",
    "#print(num1)"
   ]
  },
  {
   "cell_type": "markdown",
   "metadata": {},
   "source": [
    "### globals()"
   ]
  },
  {
   "cell_type": "code",
   "execution_count": 34,
   "metadata": {},
   "outputs": [
    {
     "data": {
      "text/plain": [
       "{'__name__': '__main__',\n",
       " '__doc__': 'Automatically created module for IPython interactive environment',\n",
       " '__package__': None,\n",
       " '__loader__': None,\n",
       " '__spec__': None,\n",
       " '__builtin__': <module 'builtins' (built-in)>,\n",
       " '__builtins__': <module 'builtins' (built-in)>,\n",
       " '_ih': ['',\n",
       "  \"def performOperation(num1,num2,operation):\\n    if operation =='sum':\\n        return num1 + num2\\n    if operation == 'sub':\\n        return num1 - num2\\n    if operation == 'multiply':\\n        return num1 * num2\\nperformOperation(2,3,'sum')\",\n",
       "  \"def performOperation(num1,num2,operation):\\n    if operation =='sum':\\n        return num1 + num2\\n    if operation == 'sub':\\n        return num1 - num2\\n    if operation == 'multiply':\\n        return num1 * num2\\nperformOperation(2,3,'sub')\",\n",
       "  \"def performOperation(num1,num2,operation):\\n    if operation =='sum':\\n        return num1 + num2\\n    if operation == 'sub':\\n        return num1 - num2\\n    if operation == 'multiply':\\n        return num1 * num2\\nperformOperation(2,3,'multiply')\",\n",
       "  \"def performOperation(num1,num2,operation = 'sum'):\\n    if operation =='sum':\\n        return num1 + num2\\n    if operation == 'sub':\\n        return num1 - num2\\n    if operation == 'multiply':\\n        return num1 * num2\\nperformOperation(2,3)\",\n",
       "  \"def performOperation(num1, num2, operation='sum', message='Default message'):\\n    print(message)\\n    if operation == 'sum':\\n        return num1 + num2\\n    if operation == 'multiply':\\n        return num1 * num2\\n    \\nperformOperation(2, 3, operation='multiply')\",\n",
       "  \"def performOperation(num1, num2, operation='sum', message='Default message'):\\n    print(message)\\n    if operation == 'sum':\\n        return num1 + num2\\n    if operation == 'multiply':\\n        return num1 * num2\\n    \\nperformOperation(2, 3, message='New message', operation='multiply')\",\n",
       "  'def performOperation(args):\\n    print(args)\\n    \\nperformOperation(1,2,3)',\n",
       "  'def performOperation(*args):\\n    print(args)\\n    \\nperformOperation(1,2,3)',\n",
       "  \"performOperation(1,2,3, operation='sum')\",\n",
       "  \"def performOperation(*args, **kwargs):\\n    print(args)\\n    print(kwargs)\\nperformOperation(1,2,3, operation='sum')\",\n",
       "  \"def performOperation(*args, operation='sum'):\\n    if operation == 'sum':\\n        return sum(args)\\n    if operation == 'multiply':\\n        return math.prod(args)\\n    \\nperformOperation(1,2,3,6,7,8, operation='sum')\",\n",
       "  \"def performOperation(*args, operation='sum'):\\n    if operation == 'sum':\\n        return sum(args)\\n    if operation == 'multiply':\\n        return math.prod(args)\\n    \\nperformOperation(1,2,3,6,7,8, operation='multiply')\",\n",
       "  \"def performOperation(*args, operation='sum'):\\n    if operation == 'sum':\\n        return sum(args)\\n    if operation == 'multiply':\\n        return math.prod(args)\\n    \\nperformOperation(1,2,3,6,7,8, operation='multiply')\",\n",
       "  \"def performOperation(*args, operation='sum'):\\n    if operation == 'sum':\\n        return sum(args)\\n    if operation == 'multiply':\\n        return math.prod(args)\\n    \\nperformOperation(1,2,3, operation='multiply')\",\n",
       "  'import math',\n",
       "  \"def performOperation(*args, operation='sum'):\\n    if operation == 'sum':\\n        return sum(args)\\n    if operation == 'multiply':\\n        return math.prod(args)\\n    \\nperformOperation(1,2,3, operation='multiply')\",\n",
       "  \"def performOperation(*args, operation='sum'):\\n    if operation == 'sum':\\n        return sum(args)\\n    if operation == 'multiply':\\n        return math.prod(args)\\n    \\nperformOperation(1,2,3, operation='multiply')\",\n",
       "  'import math',\n",
       "  \"def performOperation(num1,num2,operation):\\n    if operation =='sum':\\n        return num1 + num2\\n    if operation == 'sub':\\n        return num1 - num2\\n    if operation == 'multiply':\\n        return num1 * num2\\nperformOperation(2,3,'multiply')\",\n",
       "  \"def performOperation(num1,num2,operation = 'sum'):\\n    if operation =='sum':\\n        return num1 + num2\\n    if operation == 'sub':\\n        return num1 - num2\\n    if operation == 'multiply':\\n        return num1 * num2\\nperformOperation(2,3)\",\n",
       "  \"def performOperation(num1, num2, operation='sum', message='Default message'):\\n    print(message)\\n    if operation == 'sum':\\n        return num1 + num2\\n    if operation == 'multiply':\\n        return num1 * num2\\n    \\nperformOperation(2, 3, message='New message', operation='multiply')\",\n",
       "  'def performOperation(*args):\\n    print(args)\\n    \\nperformOperation(1,2,3)',\n",
       "  \"def performOperation(*args, **kwargs):\\n    print(args)\\n    print(kwargs)\\nperformOperation(1,2,3, operation='sum')\",\n",
       "  \"def performOperation(*args, operation='sum'):\\n    if operation == 'sum':\\n        return sum(args)\\n    if operation == 'multiply':\\n        return math.prod(args)\\n    \\nperformOperation(1,2,3, operation='multiply')\",\n",
       "  \"def performOperation(*args, operation):\\n    if operation == 'sum':\\n        return sum(args)\\n    if operation == 'multiply':\\n        return math.prod(args)\\n    \\nperformOperation(1,2,3, operation='multiply')\",\n",
       "  \"def performOperation(*args, operation):\\n    if operation == 'sum':\\n        return sum(args)\\n    if operation == 'multiply':\\n        return math.prod(*args)\\n    \\nperformOperation(1,2,3, operation='multiply')\",\n",
       "  \"def performOperation(*args, operation):\\n    if operation == 'sum':\\n        return sum(args)\\n    if operation == 'multiply':\\n        return math.prod(args)\\n    \\nperformOperation(1,2,3, operation='sum')\",\n",
       "  \"import math\\nfrom functools import reduce\\nimport operator\\n\\ndef performOperation(*args, operation):\\n    if operation == 'add':\\n        return sum(args)\\n    if operation == 'multiply':\\n        return reduce(operator.mul, args, 1)\\n\\n# Test the function\\nprint(performOperation(1, 2, 3, operation='multiply'))  # Output: 6\\nprint(performOperation(1, 2, 3, operation='add'))       # Output: 6\",\n",
       "  \"import math\\nfrom functools import reduce\\nimport operator\\n\\ndef performOperation(*args, operation):\\n    if operation == 'add':\\n        return sum(args)\\n    if operation == 'multiply':\\n        return reduce(operator.mul, args, 1)\\n\\n# Test the function\\nprint(performOperation(4, 2, 3, operation='multiply'))  # Output: 6\\nprint(performOperation(4, 2, 3, operation='add'))       # Output: 6\",\n",
       "  \"def performOperation(*args, **kwargs):\\n    print(args)\\n    print(kwargs)\\n\\nperformOperation(1, 2, operation='sum')\",\n",
       "  \"def performOperation(num1, num2, operation='sum'):\\n    print(locals())\\n    \\nperformOperation(1, 2, operation='multiply')\\n#print(num1)\",\n",
       "  \"def performOperation(num1, num2, operation='sum'):\\n    print(locals())\\n    \\nperformOperation(1, 2, operation='multiply')\\nprint(num1)\",\n",
       "  \"def performOperation(num1, num2, operation='sum'):\\n    print(locals())\\n    \\nperformOperation(1, 2, operation='multiply')\\n#print(num1)\",\n",
       "  'globals()'],\n",
       " '_oh': {1: 5,\n",
       "  2: -1,\n",
       "  3: 6,\n",
       "  4: 5,\n",
       "  5: 6,\n",
       "  6: 6,\n",
       "  11: 27,\n",
       "  19: 6,\n",
       "  20: 5,\n",
       "  21: 6,\n",
       "  27: 6},\n",
       " '_dh': ['e:\\\\Git\\\\HjR_Python_learning'],\n",
       " 'In': ['',\n",
       "  \"def performOperation(num1,num2,operation):\\n    if operation =='sum':\\n        return num1 + num2\\n    if operation == 'sub':\\n        return num1 - num2\\n    if operation == 'multiply':\\n        return num1 * num2\\nperformOperation(2,3,'sum')\",\n",
       "  \"def performOperation(num1,num2,operation):\\n    if operation =='sum':\\n        return num1 + num2\\n    if operation == 'sub':\\n        return num1 - num2\\n    if operation == 'multiply':\\n        return num1 * num2\\nperformOperation(2,3,'sub')\",\n",
       "  \"def performOperation(num1,num2,operation):\\n    if operation =='sum':\\n        return num1 + num2\\n    if operation == 'sub':\\n        return num1 - num2\\n    if operation == 'multiply':\\n        return num1 * num2\\nperformOperation(2,3,'multiply')\",\n",
       "  \"def performOperation(num1,num2,operation = 'sum'):\\n    if operation =='sum':\\n        return num1 + num2\\n    if operation == 'sub':\\n        return num1 - num2\\n    if operation == 'multiply':\\n        return num1 * num2\\nperformOperation(2,3)\",\n",
       "  \"def performOperation(num1, num2, operation='sum', message='Default message'):\\n    print(message)\\n    if operation == 'sum':\\n        return num1 + num2\\n    if operation == 'multiply':\\n        return num1 * num2\\n    \\nperformOperation(2, 3, operation='multiply')\",\n",
       "  \"def performOperation(num1, num2, operation='sum', message='Default message'):\\n    print(message)\\n    if operation == 'sum':\\n        return num1 + num2\\n    if operation == 'multiply':\\n        return num1 * num2\\n    \\nperformOperation(2, 3, message='New message', operation='multiply')\",\n",
       "  'def performOperation(args):\\n    print(args)\\n    \\nperformOperation(1,2,3)',\n",
       "  'def performOperation(*args):\\n    print(args)\\n    \\nperformOperation(1,2,3)',\n",
       "  \"performOperation(1,2,3, operation='sum')\",\n",
       "  \"def performOperation(*args, **kwargs):\\n    print(args)\\n    print(kwargs)\\nperformOperation(1,2,3, operation='sum')\",\n",
       "  \"def performOperation(*args, operation='sum'):\\n    if operation == 'sum':\\n        return sum(args)\\n    if operation == 'multiply':\\n        return math.prod(args)\\n    \\nperformOperation(1,2,3,6,7,8, operation='sum')\",\n",
       "  \"def performOperation(*args, operation='sum'):\\n    if operation == 'sum':\\n        return sum(args)\\n    if operation == 'multiply':\\n        return math.prod(args)\\n    \\nperformOperation(1,2,3,6,7,8, operation='multiply')\",\n",
       "  \"def performOperation(*args, operation='sum'):\\n    if operation == 'sum':\\n        return sum(args)\\n    if operation == 'multiply':\\n        return math.prod(args)\\n    \\nperformOperation(1,2,3,6,7,8, operation='multiply')\",\n",
       "  \"def performOperation(*args, operation='sum'):\\n    if operation == 'sum':\\n        return sum(args)\\n    if operation == 'multiply':\\n        return math.prod(args)\\n    \\nperformOperation(1,2,3, operation='multiply')\",\n",
       "  'import math',\n",
       "  \"def performOperation(*args, operation='sum'):\\n    if operation == 'sum':\\n        return sum(args)\\n    if operation == 'multiply':\\n        return math.prod(args)\\n    \\nperformOperation(1,2,3, operation='multiply')\",\n",
       "  \"def performOperation(*args, operation='sum'):\\n    if operation == 'sum':\\n        return sum(args)\\n    if operation == 'multiply':\\n        return math.prod(args)\\n    \\nperformOperation(1,2,3, operation='multiply')\",\n",
       "  'import math',\n",
       "  \"def performOperation(num1,num2,operation):\\n    if operation =='sum':\\n        return num1 + num2\\n    if operation == 'sub':\\n        return num1 - num2\\n    if operation == 'multiply':\\n        return num1 * num2\\nperformOperation(2,3,'multiply')\",\n",
       "  \"def performOperation(num1,num2,operation = 'sum'):\\n    if operation =='sum':\\n        return num1 + num2\\n    if operation == 'sub':\\n        return num1 - num2\\n    if operation == 'multiply':\\n        return num1 * num2\\nperformOperation(2,3)\",\n",
       "  \"def performOperation(num1, num2, operation='sum', message='Default message'):\\n    print(message)\\n    if operation == 'sum':\\n        return num1 + num2\\n    if operation == 'multiply':\\n        return num1 * num2\\n    \\nperformOperation(2, 3, message='New message', operation='multiply')\",\n",
       "  'def performOperation(*args):\\n    print(args)\\n    \\nperformOperation(1,2,3)',\n",
       "  \"def performOperation(*args, **kwargs):\\n    print(args)\\n    print(kwargs)\\nperformOperation(1,2,3, operation='sum')\",\n",
       "  \"def performOperation(*args, operation='sum'):\\n    if operation == 'sum':\\n        return sum(args)\\n    if operation == 'multiply':\\n        return math.prod(args)\\n    \\nperformOperation(1,2,3, operation='multiply')\",\n",
       "  \"def performOperation(*args, operation):\\n    if operation == 'sum':\\n        return sum(args)\\n    if operation == 'multiply':\\n        return math.prod(args)\\n    \\nperformOperation(1,2,3, operation='multiply')\",\n",
       "  \"def performOperation(*args, operation):\\n    if operation == 'sum':\\n        return sum(args)\\n    if operation == 'multiply':\\n        return math.prod(*args)\\n    \\nperformOperation(1,2,3, operation='multiply')\",\n",
       "  \"def performOperation(*args, operation):\\n    if operation == 'sum':\\n        return sum(args)\\n    if operation == 'multiply':\\n        return math.prod(args)\\n    \\nperformOperation(1,2,3, operation='sum')\",\n",
       "  \"import math\\nfrom functools import reduce\\nimport operator\\n\\ndef performOperation(*args, operation):\\n    if operation == 'add':\\n        return sum(args)\\n    if operation == 'multiply':\\n        return reduce(operator.mul, args, 1)\\n\\n# Test the function\\nprint(performOperation(1, 2, 3, operation='multiply'))  # Output: 6\\nprint(performOperation(1, 2, 3, operation='add'))       # Output: 6\",\n",
       "  \"import math\\nfrom functools import reduce\\nimport operator\\n\\ndef performOperation(*args, operation):\\n    if operation == 'add':\\n        return sum(args)\\n    if operation == 'multiply':\\n        return reduce(operator.mul, args, 1)\\n\\n# Test the function\\nprint(performOperation(4, 2, 3, operation='multiply'))  # Output: 6\\nprint(performOperation(4, 2, 3, operation='add'))       # Output: 6\",\n",
       "  \"def performOperation(*args, **kwargs):\\n    print(args)\\n    print(kwargs)\\n\\nperformOperation(1, 2, operation='sum')\",\n",
       "  \"def performOperation(num1, num2, operation='sum'):\\n    print(locals())\\n    \\nperformOperation(1, 2, operation='multiply')\\n#print(num1)\",\n",
       "  \"def performOperation(num1, num2, operation='sum'):\\n    print(locals())\\n    \\nperformOperation(1, 2, operation='multiply')\\nprint(num1)\",\n",
       "  \"def performOperation(num1, num2, operation='sum'):\\n    print(locals())\\n    \\nperformOperation(1, 2, operation='multiply')\\n#print(num1)\",\n",
       "  'globals()'],\n",
       " 'Out': {1: 5,\n",
       "  2: -1,\n",
       "  3: 6,\n",
       "  4: 5,\n",
       "  5: 6,\n",
       "  6: 6,\n",
       "  11: 27,\n",
       "  19: 6,\n",
       "  20: 5,\n",
       "  21: 6,\n",
       "  27: 6},\n",
       " 'get_ipython': <bound method InteractiveShell.get_ipython of <ipykernel.zmqshell.ZMQInteractiveShell object at 0x000001F4E7BC9248>>,\n",
       " 'exit': <IPython.core.autocall.ZMQExitAutocall at 0x1f4e7bd9788>,\n",
       " 'quit': <IPython.core.autocall.ZMQExitAutocall at 0x1f4e7bd9788>,\n",
       " '_': 6,\n",
       " '__': 6,\n",
       " '___': 5,\n",
       " '__vsc_ipynb_file__': 'e:\\\\Git\\\\HjR_Python_learning\\\\function.ipynb',\n",
       " '_i': \"def performOperation(num1, num2, operation='sum'):\\n    print(locals())\\n    \\nperformOperation(1, 2, operation='multiply')\\n#print(num1)\",\n",
       " '_ii': \"def performOperation(num1, num2, operation='sum'):\\n    print(locals())\\n    \\nperformOperation(1, 2, operation='multiply')\\nprint(num1)\",\n",
       " '_iii': \"def performOperation(num1, num2, operation='sum'):\\n    print(locals())\\n    \\nperformOperation(1, 2, operation='multiply')\\n#print(num1)\",\n",
       " '_i1': \"def performOperation(num1,num2,operation):\\n    if operation =='sum':\\n        return num1 + num2\\n    if operation == 'sub':\\n        return num1 - num2\\n    if operation == 'multiply':\\n        return num1 * num2\\nperformOperation(2,3,'sum')\",\n",
       " 'performOperation': <function __main__.performOperation(num1, num2, operation='sum')>,\n",
       " '_1': 5,\n",
       " '_i2': \"def performOperation(num1,num2,operation):\\n    if operation =='sum':\\n        return num1 + num2\\n    if operation == 'sub':\\n        return num1 - num2\\n    if operation == 'multiply':\\n        return num1 * num2\\nperformOperation(2,3,'sub')\",\n",
       " '_2': -1,\n",
       " '_i3': \"def performOperation(num1,num2,operation):\\n    if operation =='sum':\\n        return num1 + num2\\n    if operation == 'sub':\\n        return num1 - num2\\n    if operation == 'multiply':\\n        return num1 * num2\\nperformOperation(2,3,'multiply')\",\n",
       " '_3': 6,\n",
       " '_i4': \"def performOperation(num1,num2,operation = 'sum'):\\n    if operation =='sum':\\n        return num1 + num2\\n    if operation == 'sub':\\n        return num1 - num2\\n    if operation == 'multiply':\\n        return num1 * num2\\nperformOperation(2,3)\",\n",
       " '_4': 5,\n",
       " '_i5': \"def performOperation(num1, num2, operation='sum', message='Default message'):\\n    print(message)\\n    if operation == 'sum':\\n        return num1 + num2\\n    if operation == 'multiply':\\n        return num1 * num2\\n    \\nperformOperation(2, 3, operation='multiply')\",\n",
       " '_5': 6,\n",
       " '_i6': \"def performOperation(num1, num2, operation='sum', message='Default message'):\\n    print(message)\\n    if operation == 'sum':\\n        return num1 + num2\\n    if operation == 'multiply':\\n        return num1 * num2\\n    \\nperformOperation(2, 3, message='New message', operation='multiply')\",\n",
       " '_6': 6,\n",
       " '_i7': 'def performOperation(args):\\n    print(args)\\n    \\nperformOperation(1,2,3)',\n",
       " '_i8': 'def performOperation(*args):\\n    print(args)\\n    \\nperformOperation(1,2,3)',\n",
       " '_i9': \"performOperation(1,2,3, operation='sum')\",\n",
       " '_i10': \"def performOperation(*args, **kwargs):\\n    print(args)\\n    print(kwargs)\\nperformOperation(1,2,3, operation='sum')\",\n",
       " '_i11': \"def performOperation(*args, operation='sum'):\\n    if operation == 'sum':\\n        return sum(args)\\n    if operation == 'multiply':\\n        return math.prod(args)\\n    \\nperformOperation(1,2,3,6,7,8, operation='sum')\",\n",
       " '_11': 27,\n",
       " '_i12': \"def performOperation(*args, operation='sum'):\\n    if operation == 'sum':\\n        return sum(args)\\n    if operation == 'multiply':\\n        return math.prod(args)\\n    \\nperformOperation(1,2,3,6,7,8, operation='multiply')\",\n",
       " '_i13': \"def performOperation(*args, operation='sum'):\\n    if operation == 'sum':\\n        return sum(args)\\n    if operation == 'multiply':\\n        return math.prod(args)\\n    \\nperformOperation(1,2,3,6,7,8, operation='multiply')\",\n",
       " '_i14': \"def performOperation(*args, operation='sum'):\\n    if operation == 'sum':\\n        return sum(args)\\n    if operation == 'multiply':\\n        return math.prod(args)\\n    \\nperformOperation(1,2,3, operation='multiply')\",\n",
       " '_i15': 'import math',\n",
       " 'math': <module 'math' (built-in)>,\n",
       " '_i16': \"def performOperation(*args, operation='sum'):\\n    if operation == 'sum':\\n        return sum(args)\\n    if operation == 'multiply':\\n        return math.prod(args)\\n    \\nperformOperation(1,2,3, operation='multiply')\",\n",
       " '_i17': \"def performOperation(*args, operation='sum'):\\n    if operation == 'sum':\\n        return sum(args)\\n    if operation == 'multiply':\\n        return math.prod(args)\\n    \\nperformOperation(1,2,3, operation='multiply')\",\n",
       " '_i18': 'import math',\n",
       " '_i19': \"def performOperation(num1,num2,operation):\\n    if operation =='sum':\\n        return num1 + num2\\n    if operation == 'sub':\\n        return num1 - num2\\n    if operation == 'multiply':\\n        return num1 * num2\\nperformOperation(2,3,'multiply')\",\n",
       " '_19': 6,\n",
       " '_i20': \"def performOperation(num1,num2,operation = 'sum'):\\n    if operation =='sum':\\n        return num1 + num2\\n    if operation == 'sub':\\n        return num1 - num2\\n    if operation == 'multiply':\\n        return num1 * num2\\nperformOperation(2,3)\",\n",
       " '_20': 5,\n",
       " '_i21': \"def performOperation(num1, num2, operation='sum', message='Default message'):\\n    print(message)\\n    if operation == 'sum':\\n        return num1 + num2\\n    if operation == 'multiply':\\n        return num1 * num2\\n    \\nperformOperation(2, 3, message='New message', operation='multiply')\",\n",
       " '_21': 6,\n",
       " '_i22': 'def performOperation(*args):\\n    print(args)\\n    \\nperformOperation(1,2,3)',\n",
       " '_i23': \"def performOperation(*args, **kwargs):\\n    print(args)\\n    print(kwargs)\\nperformOperation(1,2,3, operation='sum')\",\n",
       " '_i24': \"def performOperation(*args, operation='sum'):\\n    if operation == 'sum':\\n        return sum(args)\\n    if operation == 'multiply':\\n        return math.prod(args)\\n    \\nperformOperation(1,2,3, operation='multiply')\",\n",
       " '_i25': \"def performOperation(*args, operation):\\n    if operation == 'sum':\\n        return sum(args)\\n    if operation == 'multiply':\\n        return math.prod(args)\\n    \\nperformOperation(1,2,3, operation='multiply')\",\n",
       " '_i26': \"def performOperation(*args, operation):\\n    if operation == 'sum':\\n        return sum(args)\\n    if operation == 'multiply':\\n        return math.prod(*args)\\n    \\nperformOperation(1,2,3, operation='multiply')\",\n",
       " '_i27': \"def performOperation(*args, operation):\\n    if operation == 'sum':\\n        return sum(args)\\n    if operation == 'multiply':\\n        return math.prod(args)\\n    \\nperformOperation(1,2,3, operation='sum')\",\n",
       " '_27': 6,\n",
       " '_i28': \"import math\\nfrom functools import reduce\\nimport operator\\n\\ndef performOperation(*args, operation):\\n    if operation == 'add':\\n        return sum(args)\\n    if operation == 'multiply':\\n        return reduce(operator.mul, args, 1)\\n\\n# Test the function\\nprint(performOperation(1, 2, 3, operation='multiply'))  # Output: 6\\nprint(performOperation(1, 2, 3, operation='add'))       # Output: 6\",\n",
       " 'reduce': <function _functools.reduce>,\n",
       " 'operator': <module 'operator' from 'c:\\\\Users\\\\HP\\\\.conda\\\\envs\\\\gputest\\\\lib\\\\operator.py'>,\n",
       " '_i29': \"import math\\nfrom functools import reduce\\nimport operator\\n\\ndef performOperation(*args, operation):\\n    if operation == 'add':\\n        return sum(args)\\n    if operation == 'multiply':\\n        return reduce(operator.mul, args, 1)\\n\\n# Test the function\\nprint(performOperation(4, 2, 3, operation='multiply'))  # Output: 6\\nprint(performOperation(4, 2, 3, operation='add'))       # Output: 6\",\n",
       " '_i30': \"def performOperation(*args, **kwargs):\\n    print(args)\\n    print(kwargs)\\n\\nperformOperation(1, 2, operation='sum')\",\n",
       " '_i31': \"def performOperation(num1, num2, operation='sum'):\\n    print(locals())\\n    \\nperformOperation(1, 2, operation='multiply')\\n#print(num1)\",\n",
       " '_i32': \"def performOperation(num1, num2, operation='sum'):\\n    print(locals())\\n    \\nperformOperation(1, 2, operation='multiply')\\nprint(num1)\",\n",
       " '_i33': \"def performOperation(num1, num2, operation='sum'):\\n    print(locals())\\n    \\nperformOperation(1, 2, operation='multiply')\\n#print(num1)\",\n",
       " '_i34': 'globals()'}"
      ]
     },
     "execution_count": 34,
     "metadata": {},
     "output_type": "execute_result"
    }
   ],
   "source": [
    "globals()"
   ]
  },
  {
   "cell_type": "markdown",
   "metadata": {},
   "source": [
    "### Global and Local scope"
   ]
  },
  {
   "cell_type": "code",
   "execution_count": 35,
   "metadata": {},
   "outputs": [
    {
     "name": "stdout",
     "output_type": "stream",
     "text": [
      "Some global data\n",
      "{'varA': 1, 'varB': 2}\n",
      "Some global data\n",
      "{'varC': 3, 'varB': 4}\n"
     ]
    }
   ],
   "source": [
    "message = 'Some global data'\n",
    "\n",
    "def function1(varA, varB):\n",
    "    print(message)\n",
    "    print(locals())\n",
    "    \n",
    "    \n",
    "def function2(varC, varB):\n",
    "    print(message)\n",
    "    print(locals())\n",
    "    \n",
    "function1(1, 2)\n",
    "function2(3, 4)"
   ]
  },
  {
   "cell_type": "code",
   "execution_count": 37,
   "metadata": {},
   "outputs": [
    {
     "name": "stdout",
     "output_type": "stream",
     "text": [
      "1\n",
      "local data\n",
      "{'varA': 1, 'varB': 2, 'message': 'local data'}\n",
      "5\n",
      "Some global data\n",
      "{'varC': 3, 'varB': 4}\n"
     ]
    }
   ],
   "source": [
    "message = 'Some global data'\n",
    "varA = 5\n",
    "\n",
    "def function1(varA, varB):\n",
    "    message = 'local data'\n",
    "    print(varA)\n",
    "    print(message)\n",
    "    print(locals())\n",
    "    \n",
    "    \n",
    "def function2(varC, varB):\n",
    "    print(varA)\n",
    "    print(message)\n",
    "    print(locals())\n",
    "    \n",
    "function1(1, 2)\n",
    "function2(3, 4)"
   ]
  },
  {
   "cell_type": "code",
   "execution_count": 39,
   "metadata": {},
   "outputs": [
    {
     "name": "stdout",
     "output_type": "stream",
     "text": [
      "inner_function local scope: {'varA': 123, 'varB': 456}\n"
     ]
    }
   ],
   "source": [
    "def function1(varA, varB):\n",
    "    message = 'Some local data'\n",
    "    \n",
    "    def inner_function(varA, varB):\n",
    "        print(f'inner_function local scope: {locals()}')\n",
    "        \n",
    "    inner_function(123, 456)\n",
    "    \n",
    "\n",
    "function1(1, 2) "
   ]
  },
  {
   "cell_type": "code",
   "execution_count": 40,
   "metadata": {},
   "outputs": [
    {
     "name": "stdout",
     "output_type": "stream",
     "text": [
      "1\n",
      "{'varA': 1, 'varB': 2, 'message': 'Some local data', 'inner_function': <function function1.<locals>.inner_function at 0x000001F4E88E0CA8>}\n",
      "inner_function local scope: {'varA': 123, 'varB': 456}\n"
     ]
    }
   ],
   "source": [
    "def function1(varA, varB):\n",
    "    message = 'Some local data'\n",
    "    print(varA)\n",
    "    def inner_function(varA, varB):\n",
    "        print(f'inner_function local scope: {locals()}')\n",
    "    \n",
    "    print(locals())\n",
    "    inner_function(123, 456)\n",
    "    \n",
    "\n",
    "function1(1, 2) \n"
   ]
  },
  {
   "cell_type": "code",
   "execution_count": 41,
   "metadata": {},
   "outputs": [],
   "source": [
    "x = 5"
   ]
  },
  {
   "cell_type": "code",
   "execution_count": 43,
   "metadata": {},
   "outputs": [
    {
     "data": {
      "text/plain": [
       "5"
      ]
     },
     "execution_count": 43,
     "metadata": {},
     "output_type": "execute_result"
    }
   ],
   "source": [
    "def y():\n",
    "    return 5\n",
    "y()\n"
   ]
  },
  {
   "cell_type": "markdown",
   "metadata": {},
   "source": [
    "## Viewing function data with \\_\\_code\\_\\_"
   ]
  },
  {
   "cell_type": "code",
   "execution_count": 44,
   "metadata": {},
   "outputs": [
    {
     "name": "stdout",
     "output_type": "stream",
     "text": [
      "()\n",
      "b'd\\x01S\\x00'\n"
     ]
    }
   ],
   "source": [
    "print(y.__code__.co_varnames)\n",
    "print(y.__code__.co_code)"
   ]
  },
  {
   "cell_type": "markdown",
   "metadata": {},
   "source": [
    "### Text processing in Python"
   ]
  },
  {
   "cell_type": "code",
   "execution_count": 45,
   "metadata": {},
   "outputs": [],
   "source": [
    "text = '''\n",
    "Beautiful is better than ugly.\n",
    "Explicit is better than implicit.\n",
    "Simple is better than complex.\n",
    "Complex is better than complicated.\n",
    "Flat is better than nested.\n",
    "Sparse is better than dense.\n",
    "Readability counts.\n",
    "Special cases aren't special enough to break the rules.\n",
    "Although practicality beats purity.\n",
    "Errors should never pass silently.\n",
    "Unless explicitly silenced.\n",
    "In the face of ambiguity, refuse the temptation to guess.\n",
    "There should be one-- and preferably only one --obvious way to do it.\n",
    "Although that way may not be obvious at first unless you're Dutch.\n",
    "Now is better than never.\n",
    "Although never is often better than *right* now.\n",
    "If the implementation is hard to explain, it's a bad idea.\n",
    "If the implementation is easy to explain, it may be a good idea.\n",
    "Namespaces are one honking great idea -- let's do more of those!\n",
    "'''"
   ]
  },
  {
   "cell_type": "code",
   "execution_count": 46,
   "metadata": {},
   "outputs": [],
   "source": [
    "def lowercase(text):\n",
    "    return text.lower()\n",
    "\n",
    "def removePunctuation(text):\n",
    "    punctuations = ['.', '-', ',', '*']\n",
    "    for punctuation in punctuations:\n",
    "        text = text.replace(punctuation,'')\n",
    "    return text\n",
    "\n",
    "def removeNewlines(text):\n",
    "    text = text.replace('\\n',' ')\n",
    "    return text\n",
    "\n",
    "def removeShortWords(text):\n",
    "    return ' '.join([word for word in text.split() if len(word) > 3])\n",
    "\n",
    "def removeLongWords(text):\n",
    "    return ' '.join([word for word in text.split() if len(word) < 6])\n"
   ]
  },
  {
   "cell_type": "code",
   "execution_count": 47,
   "metadata": {},
   "outputs": [
    {
     "name": "stdout",
     "output_type": "stream",
     "text": [
      "is than ugly is than is than is than flat is than is than dense cases to break the rules beats never pass in the face of the to guess there be one and only one way to do it that way may not be at first dutch now is than never never is often than right now if the is hard to it's a bad idea if the is easy to it may be a good idea are one great idea let's do more of\n"
     ]
    }
   ],
   "source": [
    "processingFunctions = [lowercase, removePunctuation, removeNewlines, removeLongWords]\n",
    "\n",
    "for func in processingFunctions:\n",
    "    text = func(text)\n",
    "\n",
    "print(text)"
   ]
  },
  {
   "cell_type": "markdown",
   "metadata": {},
   "source": [
    "### Lamda Functions"
   ]
  },
  {
   "cell_type": "code",
   "execution_count": 48,
   "metadata": {},
   "outputs": [
    {
     "data": {
      "text/plain": [
       "11"
      ]
     },
     "execution_count": 48,
     "metadata": {},
     "output_type": "execute_result"
    }
   ],
   "source": [
    "(lambda x: x+2)(9)"
   ]
  },
  {
   "cell_type": "code",
   "execution_count": 49,
   "metadata": {},
   "outputs": [
    {
     "data": {
      "text/plain": [
       "[2, 3, 4, 5, 9]"
      ]
     },
     "execution_count": 49,
     "metadata": {},
     "output_type": "execute_result"
    }
   ],
   "source": [
    "myList = [5,9,4,3,2]\n",
    "sorted(myList)"
   ]
  },
  {
   "cell_type": "code",
   "execution_count": 51,
   "metadata": {},
   "outputs": [
    {
     "data": {
      "text/plain": [
       "[{'num': 2}, {'num': 3}, {'num': 7}]"
      ]
     },
     "execution_count": 51,
     "metadata": {},
     "output_type": "execute_result"
    }
   ],
   "source": [
    "myList = [{'num': 3}, {'num': 2}, {'num': 7}]\n",
    "sorted(myList,key=lambda x:x['num'] )"
   ]
  },
  {
   "cell_type": "markdown",
   "metadata": {},
   "source": [
    "## Coding challenge six"
   ]
  },
  {
   "cell_type": "code",
   "execution_count": 54,
   "metadata": {},
   "outputs": [
    {
     "data": {
      "text/plain": [
       "64"
      ]
     },
     "execution_count": 54,
     "metadata": {},
     "output_type": "execute_result"
    }
   ],
   "source": [
    "def triangle(num):\n",
    "    if num == 1:\n",
    "        return num\n",
    "    return num + triangle(num - 1)\n",
    "\n",
    "def square(num):\n",
    "    sum1 = triangle(num)\n",
    "    sum2 = triangle(num-1)\n",
    "    return sum1 + sum2\n",
    "    pass\n",
    "\n",
    "square(8)"
   ]
  },
  {
   "cell_type": "code",
   "execution_count": 55,
   "metadata": {},
   "outputs": [],
   "source": [
    "def triangle(num):\n",
    "    if num == 1:\n",
    "        return num\n",
    "    return num + triangle(num - 1)\n",
    "class Answer:\n",
    " @staticmethod\n",
    " def square(num):\n",
    "    sum1 = triangle(num)\n",
    "    sum2 = triangle(num-1)\n",
    "    return sum1 + sum2\n",
    "    pass"
   ]
  },
  {
   "cell_type": "markdown",
   "metadata": {},
   "source": [
    "# Class"
   ]
  },
  {
   "cell_type": "markdown",
   "metadata": {},
   "source": [
    "### Instance Attributes"
   ]
  },
  {
   "cell_type": "code",
   "execution_count": 56,
   "metadata": {},
   "outputs": [
    {
     "name": "stdout",
     "output_type": "stream",
     "text": [
      "Rover\n",
      "4\n",
      "Rover says: Bark!\n"
     ]
    }
   ],
   "source": [
    "class Dog:\n",
    "    def __init__(self, name):\n",
    "        self.name = name\n",
    "        self.legs = 4\n",
    "    \n",
    "    def speak(self):\n",
    "        print(self.name + ' says: Bark!')\n",
    "\n",
    "myDog = Dog('Rover')\n",
    "print(myDog.name)\n",
    "print(myDog.legs)\n",
    "myDog.speak()"
   ]
  },
  {
   "cell_type": "code",
   "execution_count": 58,
   "metadata": {},
   "outputs": [],
   "source": [
    "#Dog.legs"
   ]
  },
  {
   "cell_type": "markdown",
   "metadata": {},
   "source": [
    "### Static Attributes"
   ]
  },
  {
   "cell_type": "code",
   "execution_count": 59,
   "metadata": {},
   "outputs": [
    {
     "name": "stdout",
     "output_type": "stream",
     "text": [
      "Rover\n",
      "4\n"
     ]
    }
   ],
   "source": [
    "class Dog:\n",
    "    legs = 4\n",
    "    def __init__(self, name):\n",
    "        self.name = name\n",
    "    \n",
    "    def speak(self):\n",
    "        print(self.name + ' says: Bark!')\n",
    "\n",
    "myDog = Dog('Rover')\n",
    "print(myDog.name)\n",
    "print(myDog.legs)"
   ]
  },
  {
   "cell_type": "code",
   "execution_count": 60,
   "metadata": {},
   "outputs": [
    {
     "data": {
      "text/plain": [
       "4"
      ]
     },
     "execution_count": 60,
     "metadata": {},
     "output_type": "execute_result"
    }
   ],
   "source": [
    "Dog.legs"
   ]
  },
  {
   "cell_type": "code",
   "execution_count": 61,
   "metadata": {},
   "outputs": [
    {
     "name": "stdout",
     "output_type": "stream",
     "text": [
      "Rover\n",
      "3\n"
     ]
    }
   ],
   "source": [
    "Dog.legs = 3\n",
    "myDog = Dog('Rover')\n",
    "print(myDog.name)\n",
    "print(myDog.legs)"
   ]
  },
  {
   "cell_type": "code",
   "execution_count": 62,
   "metadata": {},
   "outputs": [
    {
     "name": "stdout",
     "output_type": "stream",
     "text": [
      "Rover\n",
      "4\n"
     ]
    }
   ],
   "source": [
    "class Dog:\n",
    "    _legs = 4\n",
    "    def __init__(self, name):\n",
    "        self.name = name\n",
    "        \n",
    "    def getLegs(self):\n",
    "        return self._legs\n",
    "    \n",
    "    def speak(self):\n",
    "        print(self.name + ' says: Bark!')\n",
    "\n",
    "myDog = Dog('Rover')\n",
    "print(myDog.name)\n",
    "print(myDog.getLegs())"
   ]
  },
  {
   "cell_type": "code",
   "execution_count": 63,
   "metadata": {},
   "outputs": [
    {
     "name": "stdout",
     "output_type": "stream",
     "text": [
      "Rover\n",
      "3\n",
      "4\n"
     ]
    }
   ],
   "source": [
    "myDog = Dog('Rover')\n",
    "myDog._legs = 3\n",
    "print(myDog.name)\n",
    "print(myDog.getLegs())\n",
    "print(Dog._legs)"
   ]
  }
 ],
 "metadata": {
  "kernelspec": {
   "display_name": "gputest",
   "language": "python",
   "name": "gputest"
  },
  "language_info": {
   "codemirror_mode": {
    "name": "ipython",
    "version": 3
   },
   "file_extension": ".py",
   "mimetype": "text/x-python",
   "name": "python",
   "nbconvert_exporter": "python",
   "pygments_lexer": "ipython3",
   "version": "3.7.16"
  }
 },
 "nbformat": 4,
 "nbformat_minor": 2
}

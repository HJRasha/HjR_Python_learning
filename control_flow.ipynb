{
 "cells": [
  {
   "cell_type": "code",
   "execution_count": null,
   "metadata": {},
   "outputs": [],
   "source": [
    "stringVal = 'AAAAABBBBBCCCCC'\n",
    "\n",
    "prevChar = None\n",
    "for char in stringVal:\n",
    "    if char != prevChar:\n",
    "        print(f'New character is {char}')\n",
    "    prevChar = char"
   ]
  },
  {
   "cell_type": "code",
   "execution_count": null,
   "metadata": {},
   "outputs": [],
   "source": [
    "values = input(\"Enter tuple values (comma-separated): \").split(\",\")\n",
    "    tuple_values = tuple(map(int, values))  # Convert to integers\n",
    "    result.append(tuple_values)\n",
    "\n",
    "print(result)"
   ]
  },
  {
   "cell_type": "code",
   "execution_count": null,
   "metadata": {},
   "outputs": [],
   "source": [
    "# Sample list of tuples\n",
    "tuple_list = [(3, 4), (5, 6), (7, 8)]\n",
    "\n",
    "# List to store the string results\n",
    "string_results = []\n",
    "\n",
    "# Loop through each tuple in the list\n",
    "for t in tuple_list:\n",
    "    # Perform a calculation with the tuple values (e.g., sum of elements in each tuple)\n",
    "    result = t[0] + t[1]\n",
    "    \n",
    "    # Convert the result to a string and append it to the string_results list\n",
    "    string_results.append(str(result))\n",
    "\n",
    "# Print the final list of string results\n",
    "print(\"List of string results:\", string_results)"
   ]
  },
  {
   "cell_type": "code",
   "execution_count": null,
   "metadata": {},
   "outputs": [
    {
     "name": "stdout",
     "output_type": "stream",
     "text": [
      "result: [('a', 3), ('b', 2), ('c', 1)]\n",
      "result: aaabbc\n"
     ]
    },
    {
     "data": {
      "text/plain": [
       "'aaabbc'"
      ]
     },
     "execution_count": 10,
     "metadata": {},
     "output_type": "execute_result"
    }
   ],
   "source": [
    "#Coding Challenge Three\n",
    "class Answer:\n",
    "    @staticmethod\n",
    "    def encodeString(stringVal):\n",
    "        result = []\n",
    "        prevChar = None\n",
    "        count = 0\n",
    "        for char in stringVal:\n",
    "            if char != prevChar:\n",
    "                if prevChar is not None:\n",
    "                    # Append the previous character and its count as a tuple\n",
    "                    result.append((prevChar, count))\n",
    "                # Reset for the new character\n",
    "                prevChar = char\n",
    "                count = 1\n",
    "            else:\n",
    "                count += 1\n",
    "        # Append the last character count\n",
    "        if prevChar is not None:\n",
    "            result.append((prevChar, count))\n",
    "        print('result:', result)\n",
    "        return result\n",
    "\n",
    "    @staticmethod\n",
    "    def decodeString(encodedList):\n",
    "        string_result = []\n",
    "        for tuple in encodedList:\n",
    "          s = tuple[0]*tuple[1]\n",
    "          string_result.append(str(s))\n",
    "\n",
    "        result = ''.join(string_result)\n",
    "        print('result:', result)\n",
    "        return result\n",
    "\n",
    "\n",
    "# Example usage\n",
    "encoded = Answer.encodeString(\"aaabbc\")\n",
    "Answer.decodeString(encoded)\n"
   ]
  },
  {
   "cell_type": "code",
   "execution_count": 3,
   "metadata": {},
   "outputs": [
    {
     "name": "stdout",
     "output_type": "stream",
     "text": [
      "(1, 4, 9)\n"
     ]
    }
   ],
   "source": [
    "# Calculation\n",
    "numbers = [1, 2, 3]\n",
    "squared_numbers = [x**2 for x in numbers]\n",
    "\n",
    "# Convert to tuple\n",
    "result_tuple = tuple(squared_numbers)\n",
    "\n",
    "# Use as input\n",
    "print(result_tuple)"
   ]
  }
 ],
 "metadata": {
  "kernelspec": {
   "display_name": "gputest",
   "language": "python",
   "name": "gputest"
  },
  "language_info": {
   "codemirror_mode": {
    "name": "ipython",
    "version": 3
   },
   "file_extension": ".py",
   "mimetype": "text/x-python",
   "name": "python",
   "nbconvert_exporter": "python",
   "pygments_lexer": "ipython3",
   "version": "3.7.16"
  }
 },
 "nbformat": 4,
 "nbformat_minor": 2
}

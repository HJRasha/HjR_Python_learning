{
 "cells": [
  {
   "cell_type": "code",
   "execution_count": 13,
   "metadata": {},
   "outputs": [],
   "source": [
    "from datetime import datetime"
   ]
  },
  {
   "cell_type": "code",
   "execution_count": null,
   "metadata": {},
   "outputs": [],
   "source": [
    "stringVal = 'AAAAABBBBBCCCCC'\n",
    "\n",
    "prevChar = None\n",
    "for char in stringVal:\n",
    "    if char != prevChar:\n",
    "        print(f'New character is {char}')\n",
    "    prevChar = char"
   ]
  },
  {
   "cell_type": "code",
   "execution_count": null,
   "metadata": {},
   "outputs": [],
   "source": [
    "values = input(\"Enter tuple values (comma-separated): \").split(\",\")\n",
    "    tuple_values = tuple(map(int, values))  # Convert to integers\n",
    "    result.append(tuple_values)\n",
    "\n",
    "print(result)"
   ]
  },
  {
   "cell_type": "code",
   "execution_count": null,
   "metadata": {},
   "outputs": [],
   "source": [
    "# Sample list of tuples\n",
    "tuple_list = [(3, 4), (5, 6), (7, 8)]\n",
    "\n",
    "# List to store the string results\n",
    "string_results = []\n",
    "\n",
    "# Loop through each tuple in the list\n",
    "for t in tuple_list:\n",
    "    # Perform a calculation with the tuple values (e.g., sum of elements in each tuple)\n",
    "    result = t[0] + t[1]\n",
    "    \n",
    "    # Convert the result to a string and append it to the string_results list\n",
    "    string_results.append(str(result))\n",
    "\n",
    "# Print the final list of string results\n",
    "print(\"List of string results:\", string_results)"
   ]
  },
  {
   "cell_type": "code",
   "execution_count": null,
   "metadata": {},
   "outputs": [
    {
     "name": "stdout",
     "output_type": "stream",
     "text": [
      "result: [('a', 3), ('b', 2), ('c', 1)]\n",
      "result: aaabbc\n"
     ]
    },
    {
     "data": {
      "text/plain": [
       "'aaabbc'"
      ]
     },
     "execution_count": 10,
     "metadata": {},
     "output_type": "execute_result"
    }
   ],
   "source": [
    "#Coding Challenge Three\n",
    "class Answer:\n",
    "    @staticmethod\n",
    "    def encodeString(stringVal):\n",
    "        result = []\n",
    "        prevChar = None\n",
    "        count = 0\n",
    "        for char in stringVal:\n",
    "            if char != prevChar:\n",
    "                if prevChar is not None:\n",
    "                    # Append the previous character and its count as a tuple\n",
    "                    result.append((prevChar, count))\n",
    "                # Reset for the new character\n",
    "                prevChar = char\n",
    "                count = 1\n",
    "            else:\n",
    "                count += 1\n",
    "        # Append the last character count\n",
    "        if prevChar is not None:\n",
    "            result.append((prevChar, count))\n",
    "        print('result:', result)\n",
    "        return result\n",
    "\n",
    "    @staticmethod\n",
    "    def decodeString(encodedList):\n",
    "        string_result = []\n",
    "        for tuple in encodedList:\n",
    "          s = tuple[0]*tuple[1]\n",
    "          string_result.append(str(s))\n",
    "\n",
    "        result = ''.join(string_result)\n",
    "        print('result:', result)\n",
    "        return result\n",
    "\n",
    "\n",
    "# Example usage\n",
    "encoded = Answer.encodeString(\"aaabbc\")\n",
    "Answer.decodeString(encoded)\n"
   ]
  },
  {
   "cell_type": "code",
   "execution_count": 3,
   "metadata": {},
   "outputs": [
    {
     "name": "stdout",
     "output_type": "stream",
     "text": [
      "(1, 4, 9)\n"
     ]
    }
   ],
   "source": [
    "# Calculation\n",
    "numbers = [1, 2, 3]\n",
    "squared_numbers = [x**2 for x in numbers]\n",
    "\n",
    "# Convert to tuple\n",
    "result_tuple = tuple(squared_numbers)\n",
    "\n",
    "# Use as input\n",
    "print(result_tuple)"
   ]
  },
  {
   "cell_type": "code",
   "execution_count": null,
   "metadata": {},
   "outputs": [],
   "source": []
  },
  {
   "cell_type": "markdown",
   "metadata": {},
   "source": [
    "## if-else Statement"
   ]
  },
  {
   "cell_type": "code",
   "execution_count": null,
   "metadata": {},
   "outputs": [],
   "source": [
    "#control_flow\n",
    "for n in range(1,51):\n",
    "    if n % 15 ==0:\n",
    "     print('FizzBuzz')\n",
    "    else:\n",
    "       if n%3 ==0 :\n",
    "          print('Fizz')\n",
    "       else: \n",
    "          if n%5==0 :\n",
    "             print('Buzz')\n",
    "          else:\n",
    "             print(n)\n",
    "    \n",
    "      \n",
    "\n",
    "     \n",
    "\n",
    "\n"
   ]
  },
  {
   "cell_type": "markdown",
   "metadata": {},
   "source": [
    "## elif Statements"
   ]
  },
  {
   "cell_type": "code",
   "execution_count": null,
   "metadata": {},
   "outputs": [],
   "source": [
    "for n in range(1,51):\n",
    "    if n % 15 == 0:\n",
    "        print('FizzBuzz')\n",
    "    elif n % 3 == 0:\n",
    "        print('Fizz')\n",
    "    elif n % 5 == 0:\n",
    "        print('Buzz')\n",
    "    else:\n",
    "        print(n)\n",
    "        "
   ]
  },
  {
   "cell_type": "markdown",
   "metadata": {},
   "source": [
    "### Single line if statements"
   ]
  },
  {
   "cell_type": "code",
   "execution_count": 8,
   "metadata": {},
   "outputs": [
    {
     "name": "stdout",
     "output_type": "stream",
     "text": [
      "Fizz\n"
     ]
    }
   ],
   "source": [
    "n = 15\n",
    "print('Fizz' if n % 3 == 0 else n)"
   ]
  },
  {
   "cell_type": "code",
   "execution_count": 9,
   "metadata": {},
   "outputs": [],
   "source": [
    "fizzBuzz = 'Fizz' if n % 3 == 0 else n"
   ]
  },
  {
   "cell_type": "code",
   "execution_count": 11,
   "metadata": {},
   "outputs": [
    {
     "data": {
      "text/plain": [
       "'Buzz'"
      ]
     },
     "execution_count": 11,
     "metadata": {},
     "output_type": "execute_result"
    }
   ],
   "source": [
    "n=25\n",
    "'Fizz' if n% 3 == 0 else 'Buzz' if n % 5==0 else n"
   ]
  },
  {
   "cell_type": "code",
   "execution_count": null,
   "metadata": {},
   "outputs": [],
   "source": [
    "['FizzBuzz' if n % 15 == 0 else 'Fizz' if n% 3 == 0 else 'Buzz' if n % 5==0 else n for n in range(1,31)]"
   ]
  },
  {
   "cell_type": "markdown",
   "metadata": {},
   "source": [
    "### While Loops"
   ]
  },
  {
   "cell_type": "code",
   "execution_count": 14,
   "metadata": {},
   "outputs": [
    {
     "data": {
      "text/plain": [
       "datetime.datetime(2024, 11, 5, 12, 58, 18, 401575)"
      ]
     },
     "execution_count": 14,
     "metadata": {},
     "output_type": "execute_result"
    }
   ],
   "source": [
    "datetime.now()"
   ]
  },
  {
   "cell_type": "code",
   "execution_count": 15,
   "metadata": {},
   "outputs": [
    {
     "data": {
      "text/plain": [
       "54"
      ]
     },
     "execution_count": 15,
     "metadata": {},
     "output_type": "execute_result"
    }
   ],
   "source": [
    "datetime.now().second"
   ]
  },
  {
   "cell_type": "code",
   "execution_count": 16,
   "metadata": {},
   "outputs": [
    {
     "data": {
      "text/plain": [
       "16"
      ]
     },
     "execution_count": 16,
     "metadata": {},
     "output_type": "execute_result"
    }
   ],
   "source": [
    "datetime.now().second + 2"
   ]
  },
  {
   "cell_type": "markdown",
   "metadata": {},
   "source": [
    "Pass statement"
   ]
  },
  {
   "cell_type": "code",
   "execution_count": null,
   "metadata": {},
   "outputs": [
    {
     "name": "stdout",
     "output_type": "stream",
     "text": [
      "we are at 21 seconds!\n"
     ]
    }
   ],
   "source": [
    "wait_until = (datetime.now().second + 1)% 60\n",
    "while datetime.now().second != wait_until:\n",
    "    #print('still waiting')\n",
    "    pass\n",
    "print(f'we are at {wait_until} seconds!')"
   ]
  },
  {
   "cell_type": "markdown",
   "metadata": {},
   "source": [
    "Break statement"
   ]
  },
  {
   "cell_type": "code",
   "execution_count": null,
   "metadata": {},
   "outputs": [
    {
     "name": "stdout",
     "output_type": "stream",
     "text": [
      "we are at 18 seconds!\n"
     ]
    }
   ],
   "source": [
    "wait_until = (datetime.now().second + 1)% 60\n",
    "while True:\n",
    "    if datetime.now().second == wait_until:\n",
    "        print(f'we are at {wait_until} seconds!') \n",
    "        break\n",
    "\n"
   ]
  },
  {
   "cell_type": "code",
   "execution_count": null,
   "metadata": {},
   "outputs": [],
   "source": [
    "wait_until = (datetime.now().second + 1)% 60\n",
    "while True:\n",
    "    while datetime.now().second == wait_until:\n",
    "        print(f'we are at {wait_until} seconds!') \n",
    "        break"
   ]
  },
  {
   "cell_type": "markdown",
   "metadata": {},
   "source": [
    "Continue Statement"
   ]
  },
  {
   "cell_type": "code",
   "execution_count": 22,
   "metadata": {},
   "outputs": [
    {
     "name": "stdout",
     "output_type": "stream",
     "text": [
      "we are at 46 seconds!\n"
     ]
    }
   ],
   "source": [
    "wait_until = (datetime.now().second + 1)% 60\n",
    "while datetime.now().second == wait_until:\n",
    "        continue\n",
    "        print('still waiting')\n",
    "print(f'we are at {wait_until} seconds!') \n",
    "        "
   ]
  },
  {
   "cell_type": "code",
   "execution_count": 23,
   "metadata": {},
   "outputs": [
    {
     "name": "stdout",
     "output_type": "stream",
     "text": [
      "we are at 47 seconds!\n"
     ]
    }
   ],
   "source": [
    "wait_until = (datetime.now().second + 1)% 60\n",
    "while True:\n",
    "    if datetime.now().second < wait_until:\n",
    "        continue\n",
    "    break\n",
    "print(f'we are at {wait_until} seconds!') \n",
    "        "
   ]
  },
  {
   "cell_type": "markdown",
   "metadata": {},
   "source": [
    "For Loop"
   ]
  },
  {
   "cell_type": "code",
   "execution_count": 25,
   "metadata": {},
   "outputs": [
    {
     "name": "stdout",
     "output_type": "stream",
     "text": [
      "1\n",
      "2\n",
      "3\n",
      "4\n"
     ]
    }
   ],
   "source": [
    "myList = [1,2,3,4]\n",
    "for item in myList:\n",
    "    print(item)\n"
   ]
  },
  {
   "cell_type": "markdown",
   "metadata": {},
   "source": [
    "Pass Statement"
   ]
  },
  {
   "cell_type": "code",
   "execution_count": 27,
   "metadata": {},
   "outputs": [],
   "source": [
    "animalLookup = {\n",
    "    'a': ['ant','antelope'],\n",
    "    'b': ['beer'],\n",
    "    'c': ['cat'],\n",
    "    'd':['dog'],\n",
    "  \n",
    "}\n",
    "for letter, animals in animalLookup.items():\n",
    "    pass"
   ]
  },
  {
   "cell_type": "markdown",
   "metadata": {},
   "source": [
    "Continue Statement"
   ]
  },
  {
   "cell_type": "code",
   "execution_count": 30,
   "metadata": {},
   "outputs": [
    {
     "name": "stdout",
     "output_type": "stream",
     "text": [
      "Only one animal! b: ['beer']\n",
      "Only one animal! c: ['cat']\n",
      "Only one animal! d: ['dog']\n"
     ]
    }
   ],
   "source": [
    "for letter, animals in animalLookup.items():\n",
    "    if len(animals)>1:\n",
    "        continue\n",
    "    print(f'Only one animal! {letter}: {animals}')"
   ]
  },
  {
   "cell_type": "markdown",
   "metadata": {},
   "source": [
    "Break Statement"
   ]
  },
  {
   "cell_type": "code",
   "execution_count": 33,
   "metadata": {},
   "outputs": [
    {
     "name": "stdout",
     "output_type": "stream",
     "text": [
      "Found 2 animals for a: ['ant', 'antelope']\n"
     ]
    }
   ],
   "source": [
    "for letter, animals in animalLookup.items():\n",
    "    if len(animals)>1:\n",
    "        print(f'Found {len(animals)} animals for {letter}: {animals}')\n",
    "        break\n"
   ]
  },
  {
   "cell_type": "markdown",
   "metadata": {},
   "source": [
    "For/Else Statement"
   ]
  },
  {
   "cell_type": "code",
   "execution_count": 37,
   "metadata": {},
   "outputs": [
    {
     "name": "stdout",
     "output_type": "stream",
     "text": [
      "2 is prime!\n",
      "3 is prime!\n",
      "5 is prime!\n",
      "7 is prime!\n",
      "11 is prime!\n",
      "13 is prime!\n",
      "17 is prime!\n",
      "19 is prime!\n",
      "23 is prime!\n",
      "29 is prime!\n",
      "31 is prime!\n",
      "37 is prime!\n",
      "41 is prime!\n",
      "43 is prime!\n",
      "47 is prime!\n",
      "53 is prime!\n",
      "59 is prime!\n",
      "61 is prime!\n",
      "67 is prime!\n",
      "71 is prime!\n",
      "73 is prime!\n",
      "79 is prime!\n",
      "83 is prime!\n",
      "89 is prime!\n",
      "97 is prime!\n"
     ]
    }
   ],
   "source": [
    "#Finding prime number!\n",
    "for number in range(2,100):\n",
    "    for factor in range(2,int(number**0.5) + 1):\n",
    "        if number % factor == 0:\n",
    "            break\n",
    "    else:\n",
    "        print(f'{number} is prime!')"
   ]
  },
  {
   "cell_type": "code",
   "execution_count": null,
   "metadata": {},
   "outputs": [],
   "source": [
    "for number in range (2, 100):\n",
    "    found_factors = False\n",
    "    for factor in range(2, int(number**0.5) + 1):\n",
    "        if number % factor == 0:\n",
    "            found_factors = True\n",
    "            break\n",
    "        if not found_factors:\n",
    "            print(f'{number} is prime! ')"
   ]
  },
  {
   "cell_type": "markdown",
   "metadata": {},
   "source": [
    "## Coding Challenge Four"
   ]
  },
  {
   "cell_type": "code",
   "execution_count": null,
   "metadata": {},
   "outputs": [],
   "source": []
  }
 ],
 "metadata": {
  "kernelspec": {
   "display_name": "gputest",
   "language": "python",
   "name": "gputest"
  },
  "language_info": {
   "codemirror_mode": {
    "name": "ipython",
    "version": 3
   },
   "file_extension": ".py",
   "mimetype": "text/x-python",
   "name": "python",
   "nbconvert_exporter": "python",
   "pygments_lexer": "ipython3",
   "version": "3.7.16"
  }
 },
 "nbformat": 4,
 "nbformat_minor": 2
}
